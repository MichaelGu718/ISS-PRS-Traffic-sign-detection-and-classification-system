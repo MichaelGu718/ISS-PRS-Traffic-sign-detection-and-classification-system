{
 "cells": [
  {
   "cell_type": "code",
   "execution_count": 10,
   "metadata": {},
   "outputs": [],
   "source": [
    "import os, shutil\n",
    "\n",
    "def movefile(oripath,tardir):\n",
    "    filename = os.path.basename(oripath)\n",
    "    print(filename)\n",
    "    tarpath = os.path.join(tardir, filename)\n",
    "    print(tarpath)\n",
    "    \n",
    "    if os.path.exists(tardir):\n",
    "        if os.path.exists(tarpath):\n",
    "            os.remove(tarpath)\n",
    "            print(\"yes tardir exit\")\n",
    "    else:\n",
    "        os.makedirs(tardir)\n",
    "        shutil.move(oripath, tardir)\n",
    "        print(\"No tardir not exit\")"
   ]
  },
  {
   "cell_type": "code",
   "execution_count": 19,
   "metadata": {},
   "outputs": [
    {
     "name": "stdout",
     "output_type": "stream",
     "text": [
      "/Users/michaelgu/Desktop/NUS/ISY5002 Pattern Recognition Systems/Group Project/bdd100k/labels/Annotations/det_val\n",
      "/Users/michaelgu/Desktop/NUS/ISY5002 Pattern Recognition Systems/ISS-PRS-Traffic-sign-detection-and-classification-system/BDD100K/VOC2007/Annotations\n"
     ]
    }
   ],
   "source": [
    "import shutil\n",
    "import os\n",
    " \n",
    "def remove_file(old_path, new_path):\n",
    "    print(old_path)\n",
    "    print(new_path)\n",
    "    filelist = os.listdir(old_path) #列出该目录下的所有文件,listdir返回的文件列表是不包含路径的。\n",
    "    # print(filelist)\n",
    "    for file in filelist:\n",
    "        src = os.path.join(old_path, file)\n",
    "        dst = os.path.join(new_path, file)\n",
    "        # print('src:', src)\n",
    "        # print('dst:', dst)\n",
    "        shutil.move(src, dst)\n",
    " \n",
    "\n",
    "remove_file(oripath, tardir)"
   ]
  },
  {
   "cell_type": "code",
   "execution_count": 18,
   "metadata": {},
   "outputs": [],
   "source": [
    "oripath = r\"/Users/michaelgu/Desktop/NUS/ISY5002 Pattern Recognition Systems/Group Project/bdd100k/labels/Annotations/det_val\"\n",
    "tardir = r\"/Users/michaelgu/Desktop/NUS/ISY5002 Pattern Recognition Systems/ISS-PRS-Traffic-sign-detection-and-classification-system/BDD100K/VOC2007/Annotations\"\n"
   ]
  }
 ],
 "metadata": {
  "kernelspec": {
   "display_name": "Python 3.9.0 64-bit",
   "language": "python",
   "name": "python3"
  },
  "language_info": {
   "codemirror_mode": {
    "name": "ipython",
    "version": 3
   },
   "file_extension": ".py",
   "mimetype": "text/x-python",
   "name": "python",
   "nbconvert_exporter": "python",
   "pygments_lexer": "ipython3",
   "version": "3.9.0"
  },
  "orig_nbformat": 4,
  "vscode": {
   "interpreter": {
    "hash": "397704579725e15f5c7cb49fe5f0341eb7531c82d19f2c29d197e8b64ab5776b"
   }
  }
 },
 "nbformat": 4,
 "nbformat_minor": 2
}
